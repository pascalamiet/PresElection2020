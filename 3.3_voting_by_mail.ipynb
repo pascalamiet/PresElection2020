{
 "cells": [
  {
   "cell_type": "markdown",
   "metadata": {},
   "source": [
    "# VBM"
   ]
  },
  {
   "cell_type": "markdown",
   "metadata": {},
   "source": [
    "Data comes from the American National Election Studies and can be found [here](https://electionstudies.org/data-center/2020-time-series-study/)."
   ]
  },
  {
   "cell_type": "code",
   "execution_count": 23,
   "metadata": {},
   "outputs": [],
   "source": [
    "import pandas as pd\n",
    "import numpy as np\n",
    "import matplotlib\n",
    "import matplotlib.pyplot as plt\n",
    "import statsmodels.formula.api as sm"
   ]
  },
  {
   "cell_type": "code",
   "execution_count": 24,
   "metadata": {},
   "outputs": [],
   "source": [
    "data = pd.read_stata('../data_raw/anes_timeseries/anes_timeseries.dta')"
   ]
  },
  {
   "cell_type": "markdown",
   "metadata": {},
   "source": [
    "### Urban vs. rural"
   ]
  },
  {
   "cell_type": "code",
   "execution_count": 25,
   "metadata": {},
   "outputs": [
    {
     "data": {
      "text/plain": [
       "3. Suburb                                                         2237\n",
       "4. City                                                           2192\n",
       "2. Small town                                                     1843\n",
       "1. Rural area                                                     1115\n",
       "-6. No post-election interview                                     750\n",
       "-7. No post-election data, deleted due to incomplete interview      77\n",
       "-5. Interview breakoff (sufficient partial IW)                      53\n",
       "-9. Refused                                                         11\n",
       "-8. Don't know                                                       2\n",
       "Name: V202355, dtype: int64"
      ]
     },
     "execution_count": 25,
     "metadata": {},
     "output_type": "execute_result"
    }
   ],
   "source": [
    "data['V202355'].value_counts()"
   ]
  },
  {
   "cell_type": "markdown",
   "metadata": {},
   "source": [
    "Create dummy variables:"
   ]
  },
  {
   "cell_type": "code",
   "execution_count": 30,
   "metadata": {},
   "outputs": [
    {
     "name": "stderr",
     "output_type": "stream",
     "text": [
      "<ipython-input-30-d9398dd8b7b7>:14: SettingWithCopyWarning: \n",
      "A value is trying to be set on a copy of a slice from a DataFrame\n",
      "\n",
      "See the caveats in the documentation: https://pandas.pydata.org/pandas-docs/stable/user_guide/indexing.html#returning-a-view-versus-a-copy\n",
      "  data['city'][i] = 1\n",
      "<ipython-input-30-d9398dd8b7b7>:12: SettingWithCopyWarning: \n",
      "A value is trying to be set on a copy of a slice from a DataFrame\n",
      "\n",
      "See the caveats in the documentation: https://pandas.pydata.org/pandas-docs/stable/user_guide/indexing.html#returning-a-view-versus-a-copy\n",
      "  data['suburb'][i] = 1\n",
      "<ipython-input-30-d9398dd8b7b7>:10: SettingWithCopyWarning: \n",
      "A value is trying to be set on a copy of a slice from a DataFrame\n",
      "\n",
      "See the caveats in the documentation: https://pandas.pydata.org/pandas-docs/stable/user_guide/indexing.html#returning-a-view-versus-a-copy\n",
      "  data['town'][i] = 1\n",
      "<ipython-input-30-d9398dd8b7b7>:8: SettingWithCopyWarning: \n",
      "A value is trying to be set on a copy of a slice from a DataFrame\n",
      "\n",
      "See the caveats in the documentation: https://pandas.pydata.org/pandas-docs/stable/user_guide/indexing.html#returning-a-view-versus-a-copy\n",
      "  data['rural'][i] = 1\n",
      "<ipython-input-30-d9398dd8b7b7>:16: SettingWithCopyWarning: \n",
      "A value is trying to be set on a copy of a slice from a DataFrame\n",
      "\n",
      "See the caveats in the documentation: https://pandas.pydata.org/pandas-docs/stable/user_guide/indexing.html#returning-a-view-versus-a-copy\n",
      "  data['rural'][i] = np.nan\n",
      "/Users/admin/opt/anaconda3/lib/python3.8/site-packages/pandas/core/indexing.py:671: SettingWithCopyWarning: \n",
      "A value is trying to be set on a copy of a slice from a DataFrame\n",
      "\n",
      "See the caveats in the documentation: https://pandas.pydata.org/pandas-docs/stable/user_guide/indexing.html#returning-a-view-versus-a-copy\n",
      "  self._setitem_with_indexer(indexer, value)\n",
      "<ipython-input-30-d9398dd8b7b7>:17: SettingWithCopyWarning: \n",
      "A value is trying to be set on a copy of a slice from a DataFrame\n",
      "\n",
      "See the caveats in the documentation: https://pandas.pydata.org/pandas-docs/stable/user_guide/indexing.html#returning-a-view-versus-a-copy\n",
      "  data['town'][i] = np.nan\n",
      "<ipython-input-30-d9398dd8b7b7>:18: SettingWithCopyWarning: \n",
      "A value is trying to be set on a copy of a slice from a DataFrame\n",
      "\n",
      "See the caveats in the documentation: https://pandas.pydata.org/pandas-docs/stable/user_guide/indexing.html#returning-a-view-versus-a-copy\n",
      "  data['suburb'][i] = np.nan\n",
      "<ipython-input-30-d9398dd8b7b7>:19: SettingWithCopyWarning: \n",
      "A value is trying to be set on a copy of a slice from a DataFrame\n",
      "\n",
      "See the caveats in the documentation: https://pandas.pydata.org/pandas-docs/stable/user_guide/indexing.html#returning-a-view-versus-a-copy\n",
      "  data['city'][i] = np.nan\n"
     ]
    }
   ],
   "source": [
    "data['rural'] = 0\n",
    "data['town'] = 0\n",
    "data['suburb'] = 0\n",
    "data['city'] = 0\n",
    "\n",
    "for i in range(len(data)):\n",
    "    if data['V202355'][i] == '1. Rural area':\n",
    "        data['rural'][i] = 1\n",
    "    elif data['V202355'][i] == '2. Small town':\n",
    "        data['town'][i] = 1\n",
    "    elif data['V202355'][i] == '3. Suburb':\n",
    "        data['suburb'][i] = 1\n",
    "    elif data['V202355'][i] == '4. City':\n",
    "        data['city'][i] = 1\n",
    "    else:\n",
    "        data['rural'][i] = np.nan\n",
    "        data['town'][i] = np.nan\n",
    "        data['suburb'][i] = np.nan\n",
    "        data['city'][i] = np.nan"
   ]
  },
  {
   "cell_type": "code",
   "execution_count": 31,
   "metadata": {},
   "outputs": [
    {
     "data": {
      "text/html": [
       "<div>\n",
       "<style scoped>\n",
       "    .dataframe tbody tr th:only-of-type {\n",
       "        vertical-align: middle;\n",
       "    }\n",
       "\n",
       "    .dataframe tbody tr th {\n",
       "        vertical-align: top;\n",
       "    }\n",
       "\n",
       "    .dataframe thead th {\n",
       "        text-align: right;\n",
       "    }\n",
       "</style>\n",
       "<table border=\"1\" class=\"dataframe\">\n",
       "  <thead>\n",
       "    <tr style=\"text-align: right;\">\n",
       "      <th></th>\n",
       "      <th>rural</th>\n",
       "      <th>town</th>\n",
       "      <th>suburb</th>\n",
       "      <th>city</th>\n",
       "    </tr>\n",
       "  </thead>\n",
       "  <tbody>\n",
       "    <tr>\n",
       "      <th>0</th>\n",
       "      <td>0.0</td>\n",
       "      <td>0.0</td>\n",
       "      <td>0.0</td>\n",
       "      <td>1.0</td>\n",
       "    </tr>\n",
       "    <tr>\n",
       "      <th>1</th>\n",
       "      <td>0.0</td>\n",
       "      <td>0.0</td>\n",
       "      <td>1.0</td>\n",
       "      <td>0.0</td>\n",
       "    </tr>\n",
       "    <tr>\n",
       "      <th>2</th>\n",
       "      <td>0.0</td>\n",
       "      <td>0.0</td>\n",
       "      <td>1.0</td>\n",
       "      <td>0.0</td>\n",
       "    </tr>\n",
       "    <tr>\n",
       "      <th>3</th>\n",
       "      <td>0.0</td>\n",
       "      <td>1.0</td>\n",
       "      <td>0.0</td>\n",
       "      <td>0.0</td>\n",
       "    </tr>\n",
       "    <tr>\n",
       "      <th>4</th>\n",
       "      <td>0.0</td>\n",
       "      <td>0.0</td>\n",
       "      <td>0.0</td>\n",
       "      <td>1.0</td>\n",
       "    </tr>\n",
       "    <tr>\n",
       "      <th>...</th>\n",
       "      <td>...</td>\n",
       "      <td>...</td>\n",
       "      <td>...</td>\n",
       "      <td>...</td>\n",
       "    </tr>\n",
       "    <tr>\n",
       "      <th>8275</th>\n",
       "      <td>0.0</td>\n",
       "      <td>1.0</td>\n",
       "      <td>0.0</td>\n",
       "      <td>0.0</td>\n",
       "    </tr>\n",
       "    <tr>\n",
       "      <th>8276</th>\n",
       "      <td>0.0</td>\n",
       "      <td>0.0</td>\n",
       "      <td>0.0</td>\n",
       "      <td>1.0</td>\n",
       "    </tr>\n",
       "    <tr>\n",
       "      <th>8277</th>\n",
       "      <td>0.0</td>\n",
       "      <td>0.0</td>\n",
       "      <td>1.0</td>\n",
       "      <td>0.0</td>\n",
       "    </tr>\n",
       "    <tr>\n",
       "      <th>8278</th>\n",
       "      <td>1.0</td>\n",
       "      <td>0.0</td>\n",
       "      <td>0.0</td>\n",
       "      <td>0.0</td>\n",
       "    </tr>\n",
       "    <tr>\n",
       "      <th>8279</th>\n",
       "      <td>0.0</td>\n",
       "      <td>1.0</td>\n",
       "      <td>0.0</td>\n",
       "      <td>0.0</td>\n",
       "    </tr>\n",
       "  </tbody>\n",
       "</table>\n",
       "<p>8280 rows × 4 columns</p>\n",
       "</div>"
      ],
      "text/plain": [
       "      rural  town  suburb  city\n",
       "0       0.0   0.0     0.0   1.0\n",
       "1       0.0   0.0     1.0   0.0\n",
       "2       0.0   0.0     1.0   0.0\n",
       "3       0.0   1.0     0.0   0.0\n",
       "4       0.0   0.0     0.0   1.0\n",
       "...     ...   ...     ...   ...\n",
       "8275    0.0   1.0     0.0   0.0\n",
       "8276    0.0   0.0     0.0   1.0\n",
       "8277    0.0   0.0     1.0   0.0\n",
       "8278    1.0   0.0     0.0   0.0\n",
       "8279    0.0   1.0     0.0   0.0\n",
       "\n",
       "[8280 rows x 4 columns]"
      ]
     },
     "execution_count": 31,
     "metadata": {},
     "output_type": "execute_result"
    }
   ],
   "source": [
    "data[['rural','town','suburb','city']]"
   ]
  },
  {
   "cell_type": "markdown",
   "metadata": {},
   "source": [
    "### Time to get to the polling place"
   ]
  },
  {
   "cell_type": "code",
   "execution_count": 32,
   "metadata": {},
   "outputs": [
    {
     "data": {
      "text/plain": [
       "-1. Inapplicable                                                  4100\n",
       "1. 0-15 minutes                                                   2961\n",
       "-6. No post-election interview                                     750\n",
       "2. 16-30 minutes                                                   325\n",
       "-7. No post-election data, deleted due to incomplete interview      77\n",
       "3. 31-59 minutes                                                    53\n",
       "4. 1-2 hours                                                         8\n",
       "5. More than 2 hours                                                 4\n",
       "-5. Interview breakoff (sufficient partial IW)                       2\n",
       "Name: V202122, dtype: int64"
      ]
     },
     "execution_count": 32,
     "metadata": {},
     "output_type": "execute_result"
    }
   ],
   "source": [
    "data['V202122'].value_counts()"
   ]
  },
  {
   "cell_type": "markdown",
   "metadata": {},
   "source": [
    "Create dummy variables:"
   ]
  },
  {
   "cell_type": "code",
   "execution_count": 33,
   "metadata": {},
   "outputs": [
    {
     "name": "stderr",
     "output_type": "stream",
     "text": [
      "<ipython-input-33-ddabef3ac51b>:19: SettingWithCopyWarning: \n",
      "A value is trying to be set on a copy of a slice from a DataFrame\n",
      "\n",
      "See the caveats in the documentation: https://pandas.pydata.org/pandas-docs/stable/user_guide/indexing.html#returning-a-view-versus-a-copy\n",
      "  data['dist_0-15'][i] = np.nan\n",
      "/Users/admin/opt/anaconda3/lib/python3.8/site-packages/pandas/core/indexing.py:671: SettingWithCopyWarning: \n",
      "A value is trying to be set on a copy of a slice from a DataFrame\n",
      "\n",
      "See the caveats in the documentation: https://pandas.pydata.org/pandas-docs/stable/user_guide/indexing.html#returning-a-view-versus-a-copy\n",
      "  self._setitem_with_indexer(indexer, value)\n",
      "<ipython-input-33-ddabef3ac51b>:20: SettingWithCopyWarning: \n",
      "A value is trying to be set on a copy of a slice from a DataFrame\n",
      "\n",
      "See the caveats in the documentation: https://pandas.pydata.org/pandas-docs/stable/user_guide/indexing.html#returning-a-view-versus-a-copy\n",
      "  data['dist_16-30'][i] = np.nan\n",
      "<ipython-input-33-ddabef3ac51b>:21: SettingWithCopyWarning: \n",
      "A value is trying to be set on a copy of a slice from a DataFrame\n",
      "\n",
      "See the caveats in the documentation: https://pandas.pydata.org/pandas-docs/stable/user_guide/indexing.html#returning-a-view-versus-a-copy\n",
      "  data['dist_31-59'][i] = np.nan\n",
      "<ipython-input-33-ddabef3ac51b>:22: SettingWithCopyWarning: \n",
      "A value is trying to be set on a copy of a slice from a DataFrame\n",
      "\n",
      "See the caveats in the documentation: https://pandas.pydata.org/pandas-docs/stable/user_guide/indexing.html#returning-a-view-versus-a-copy\n",
      "  data['dist_60-120'][i] = np.nan\n",
      "<ipython-input-33-ddabef3ac51b>:23: SettingWithCopyWarning: \n",
      "A value is trying to be set on a copy of a slice from a DataFrame\n",
      "\n",
      "See the caveats in the documentation: https://pandas.pydata.org/pandas-docs/stable/user_guide/indexing.html#returning-a-view-versus-a-copy\n",
      "  data['dist_120+'][i] = np.nan\n",
      "<ipython-input-33-ddabef3ac51b>:9: SettingWithCopyWarning: \n",
      "A value is trying to be set on a copy of a slice from a DataFrame\n",
      "\n",
      "See the caveats in the documentation: https://pandas.pydata.org/pandas-docs/stable/user_guide/indexing.html#returning-a-view-versus-a-copy\n",
      "  data['dist_0-15'][i] = 1\n",
      "<ipython-input-33-ddabef3ac51b>:11: SettingWithCopyWarning: \n",
      "A value is trying to be set on a copy of a slice from a DataFrame\n",
      "\n",
      "See the caveats in the documentation: https://pandas.pydata.org/pandas-docs/stable/user_guide/indexing.html#returning-a-view-versus-a-copy\n",
      "  data['dist_16-30'][i] = 1\n",
      "<ipython-input-33-ddabef3ac51b>:13: SettingWithCopyWarning: \n",
      "A value is trying to be set on a copy of a slice from a DataFrame\n",
      "\n",
      "See the caveats in the documentation: https://pandas.pydata.org/pandas-docs/stable/user_guide/indexing.html#returning-a-view-versus-a-copy\n",
      "  data['dist_31-59'][i] = 1\n",
      "<ipython-input-33-ddabef3ac51b>:17: SettingWithCopyWarning: \n",
      "A value is trying to be set on a copy of a slice from a DataFrame\n",
      "\n",
      "See the caveats in the documentation: https://pandas.pydata.org/pandas-docs/stable/user_guide/indexing.html#returning-a-view-versus-a-copy\n",
      "  data['dist_120+'][i] = 1\n",
      "<ipython-input-33-ddabef3ac51b>:15: SettingWithCopyWarning: \n",
      "A value is trying to be set on a copy of a slice from a DataFrame\n",
      "\n",
      "See the caveats in the documentation: https://pandas.pydata.org/pandas-docs/stable/user_guide/indexing.html#returning-a-view-versus-a-copy\n",
      "  data['dist_60-120'][i] = 1\n"
     ]
    }
   ],
   "source": [
    "data['dist_0-15'] = 0\n",
    "data['dist_16-30'] = 0\n",
    "data['dist_31-59'] = 0\n",
    "data['dist_60-120'] = 0\n",
    "data['dist_120+'] = 0\n",
    "\n",
    "for i in range(len(data)):\n",
    "    if data['V202122'][i] == '1. 0-15 minutes':\n",
    "        data['dist_0-15'][i] = 1\n",
    "    elif data['V202122'][i] == '2. 16-30 minutes':\n",
    "        data['dist_16-30'][i] = 1\n",
    "    elif data['V202122'][i] == '3. 31-59 minutes':\n",
    "        data['dist_31-59'][i] = 1\n",
    "    elif data['V202122'][i] == '4. 1-2 hours':\n",
    "        data['dist_60-120'][i] = 1\n",
    "    elif data['V202122'][i] == '5. More than 2 hours':\n",
    "        data['dist_120+'][i] = 1\n",
    "    else:\n",
    "        data['dist_0-15'][i] = np.nan\n",
    "        data['dist_16-30'][i] = np.nan\n",
    "        data['dist_31-59'][i] = np.nan\n",
    "        data['dist_60-120'][i] = np.nan\n",
    "        data['dist_120+'][i] = np.nan"
   ]
  },
  {
   "cell_type": "markdown",
   "metadata": {},
   "source": [
    "### How they voted"
   ]
  },
  {
   "cell_type": "code",
   "execution_count": 42,
   "metadata": {},
   "outputs": [
    {
     "data": {
      "text/plain": [
       "-1. Inapplicable                                                  7078\n",
       "-6. No post-election interview                                     750\n",
       "2. By mail or absentee ballot                                      242\n",
       "1. In person, at the polling place                                 101\n",
       "-7. No post-election data, deleted due to incomplete interview      77\n",
       "3. Do not know the answer                                           28\n",
       "4. Rather not answer                                                 3\n",
       "-9. Refused                                                          1\n",
       "Name: V202117, dtype: int64"
      ]
     },
     "execution_count": 42,
     "metadata": {},
     "output_type": "execute_result"
    }
   ],
   "source": [
    "data['V202117'].value_counts()"
   ]
  },
  {
   "cell_type": "code",
   "execution_count": 44,
   "metadata": {},
   "outputs": [
    {
     "name": "stderr",
     "output_type": "stream",
     "text": [
      "<ipython-input-44-474188047eb5>:5: SettingWithCopyWarning: \n",
      "A value is trying to be set on a copy of a slice from a DataFrame\n",
      "\n",
      "See the caveats in the documentation: https://pandas.pydata.org/pandas-docs/stable/user_guide/indexing.html#returning-a-view-versus-a-copy\n",
      "  data['vbm'][i] = 1\n",
      "<ipython-input-44-474188047eb5>:7: SettingWithCopyWarning: \n",
      "A value is trying to be set on a copy of a slice from a DataFrame\n",
      "\n",
      "See the caveats in the documentation: https://pandas.pydata.org/pandas-docs/stable/user_guide/indexing.html#returning-a-view-versus-a-copy\n",
      "  data['vbm'][i] = 0\n"
     ]
    }
   ],
   "source": [
    "data['vbm'] = np.nan\n",
    "\n",
    "for i in range(len(data)):\n",
    "    if data['V202117'][i] == '2. By mail or absentee ballot':\n",
    "        data['vbm'][i] = 1\n",
    "    elif data['V202117'][i] in ['1. In person, at the polling place','3. Do not know the answer','4. Rather not answer ']:\n",
    "        data['vbm'][i] = 0"
   ]
  },
  {
   "cell_type": "code",
   "execution_count": 46,
   "metadata": {},
   "outputs": [
    {
     "data": {
      "text/plain": [
       "1.0    242\n",
       "0.0    129\n",
       "Name: vbm, dtype: int64"
      ]
     },
     "execution_count": 46,
     "metadata": {},
     "output_type": "execute_result"
    }
   ],
   "source": [
    "data['vbm'].value_counts()"
   ]
  },
  {
   "cell_type": "code",
   "execution_count": 47,
   "metadata": {},
   "outputs": [
    {
     "data": {
      "text/plain": [
       "1. In-person, at the polling place                                4897\n",
       "2. By mail or absentee ballot                                     1233\n",
       "-1. Inapplicable                                                  1045\n",
       "-6. No post-election interview                                     750\n",
       "3. This is my first time voting                                    274\n",
       "-7. No post-election data, deleted due to incomplete interview      77\n",
       "-5. Interview breakoff (sufficient partial IW)                       2\n",
       "-8. Don't know                                                       1\n",
       "-9. Refused                                                          1\n",
       "Name: V202118, dtype: int64"
      ]
     },
     "execution_count": 47,
     "metadata": {},
     "output_type": "execute_result"
    }
   ],
   "source": [
    "data['V202118'].value_counts()"
   ]
  },
  {
   "cell_type": "code",
   "execution_count": 205,
   "metadata": {},
   "outputs": [
    {
     "name": "stdout",
     "output_type": "stream",
     "text": [
      "2020   - around  0.3477088948787062 % voted by mail\n",
      "Before - around  0.20114192495921696 % voted by mail\n"
     ]
    }
   ],
   "source": [
    "print('2020   - around ', 129/(129+242),'% voted by mail')\n",
    "print('Before - around ', 1233/(1233+4897),'% voted by mail')"
   ]
  },
  {
   "cell_type": "markdown",
   "metadata": {},
   "source": [
    "### Sex"
   ]
  },
  {
   "cell_type": "code",
   "execution_count": 52,
   "metadata": {},
   "outputs": [
    {
     "data": {
      "text/plain": [
       "2. Female      4450\n",
       "1. Male        3763\n",
       "-9. Refused      67\n",
       "Name: V201600, dtype: int64"
      ]
     },
     "execution_count": 52,
     "metadata": {},
     "output_type": "execute_result"
    }
   ],
   "source": [
    "data['V201600'].value_counts()"
   ]
  },
  {
   "cell_type": "code",
   "execution_count": 54,
   "metadata": {},
   "outputs": [
    {
     "name": "stderr",
     "output_type": "stream",
     "text": [
      "<ipython-input-54-1c98d7b83ac0>:5: SettingWithCopyWarning: \n",
      "A value is trying to be set on a copy of a slice from a DataFrame\n",
      "\n",
      "See the caveats in the documentation: https://pandas.pydata.org/pandas-docs/stable/user_guide/indexing.html#returning-a-view-versus-a-copy\n",
      "  data['sex'][i] = 1\n",
      "<ipython-input-54-1c98d7b83ac0>:7: SettingWithCopyWarning: \n",
      "A value is trying to be set on a copy of a slice from a DataFrame\n",
      "\n",
      "See the caveats in the documentation: https://pandas.pydata.org/pandas-docs/stable/user_guide/indexing.html#returning-a-view-versus-a-copy\n",
      "  data['sex'][i] = 0\n"
     ]
    }
   ],
   "source": [
    "data['sex'] = np.nan\n",
    "\n",
    "for i in range(len(data)):\n",
    "    if data['V201600'][i] == '1. Male':\n",
    "        data['sex'][i] = 1\n",
    "    elif data['V201600'][i] == '2. Female':\n",
    "        data['sex'][i] = 0"
   ]
  },
  {
   "cell_type": "code",
   "execution_count": 55,
   "metadata": {},
   "outputs": [
    {
     "data": {
      "text/plain": [
       "0.0    4450\n",
       "1.0    3763\n",
       "Name: sex, dtype: int64"
      ]
     },
     "execution_count": 55,
     "metadata": {},
     "output_type": "execute_result"
    }
   ],
   "source": [
    "data['sex'].value_counts()"
   ]
  },
  {
   "cell_type": "markdown",
   "metadata": {},
   "source": [
    "### Sexual orientation"
   ]
  },
  {
   "cell_type": "code",
   "execution_count": 56,
   "metadata": {},
   "outputs": [
    {
     "data": {
      "text/plain": [
       "1. Heterosexual or straight                       7609\n",
       "3. Bisexual                                        235\n",
       "2. Homosexual or gay (or lesbian)                  199\n",
       "-9. Refused                                        143\n",
       "4. Something else {SPECIFY}                         92\n",
       "-5. Interview breakoff (sufficient partial IW)       2\n",
       "Name: V201601, dtype: int64"
      ]
     },
     "execution_count": 56,
     "metadata": {},
     "output_type": "execute_result"
    }
   ],
   "source": [
    "data['V201601'].value_counts()"
   ]
  },
  {
   "cell_type": "code",
   "execution_count": 59,
   "metadata": {},
   "outputs": [
    {
     "name": "stderr",
     "output_type": "stream",
     "text": [
      "<ipython-input-59-9b39af0bcd0e>:6: SettingWithCopyWarning: \n",
      "A value is trying to be set on a copy of a slice from a DataFrame\n",
      "\n",
      "See the caveats in the documentation: https://pandas.pydata.org/pandas-docs/stable/user_guide/indexing.html#returning-a-view-versus-a-copy\n",
      "  data['sex_orientation'][i] = 0\n",
      "<ipython-input-59-9b39af0bcd0e>:8: SettingWithCopyWarning: \n",
      "A value is trying to be set on a copy of a slice from a DataFrame\n",
      "\n",
      "See the caveats in the documentation: https://pandas.pydata.org/pandas-docs/stable/user_guide/indexing.html#returning-a-view-versus-a-copy\n",
      "  data['sex_orientation'][i] = 1\n"
     ]
    }
   ],
   "source": [
    "data['sex_orientation'] = np.nan\n",
    "\n",
    "# for simplicity I created a dummy variable with 0 = straight, 1 = LGBTQ+\n",
    "for i in range(len(data)):\n",
    "    if data['V201601'][i] == '1. Heterosexual or straight':\n",
    "        data['sex_orientation'][i] = 0\n",
    "    elif data['V201601'][i] in ['3. Bisexual','2. Homosexual or gay (or lesbian)','4. Something else {SPECIFY}']:\n",
    "        data['sex_orientation'][i] = 1"
   ]
  },
  {
   "cell_type": "code",
   "execution_count": 60,
   "metadata": {},
   "outputs": [
    {
     "data": {
      "text/plain": [
       "0.0    7609\n",
       "1.0     526\n",
       "Name: sex_orientation, dtype: int64"
      ]
     },
     "execution_count": 60,
     "metadata": {},
     "output_type": "execute_result"
    }
   ],
   "source": [
    "data['sex_orientation'].value_counts()"
   ]
  },
  {
   "cell_type": "markdown",
   "metadata": {},
   "source": [
    "### Ethnicity"
   ]
  },
  {
   "cell_type": "code",
   "execution_count": 62,
   "metadata": {},
   "outputs": [
    {
     "data": {
      "text/plain": [
       "1. White, non-Hispanic                                                    5963\n",
       "3. Hispanic                                                                762\n",
       "2. Black, non-Hispanic                                                     726\n",
       "4. Asian or Native Hawaiian/other Pacific Islander, non-Hispanic alone     284\n",
       "6. Multiple races, non-Hispanic                                            271\n",
       "5. Native American/Alaska Native or other race, non-Hispanic alone         172\n",
       "-9. Refused                                                                 96\n",
       "-8. Don't know                                                               6\n",
       "Name: V201549x, dtype: int64"
      ]
     },
     "execution_count": 62,
     "metadata": {},
     "output_type": "execute_result"
    }
   ],
   "source": [
    "data['V201549x'].value_counts()"
   ]
  },
  {
   "cell_type": "markdown",
   "metadata": {},
   "source": [
    "Create dummy variables:"
   ]
  },
  {
   "cell_type": "code",
   "execution_count": 63,
   "metadata": {},
   "outputs": [
    {
     "name": "stderr",
     "output_type": "stream",
     "text": [
      "<ipython-input-63-e0d3e0f2c7f4>:11: SettingWithCopyWarning: \n",
      "A value is trying to be set on a copy of a slice from a DataFrame\n",
      "\n",
      "See the caveats in the documentation: https://pandas.pydata.org/pandas-docs/stable/user_guide/indexing.html#returning-a-view-versus-a-copy\n",
      "  data['hisp'][i] = 1\n",
      "<ipython-input-63-e0d3e0f2c7f4>:15: SettingWithCopyWarning: \n",
      "A value is trying to be set on a copy of a slice from a DataFrame\n",
      "\n",
      "See the caveats in the documentation: https://pandas.pydata.org/pandas-docs/stable/user_guide/indexing.html#returning-a-view-versus-a-copy\n",
      "  data['asian'][i] = 1\n",
      "<ipython-input-63-e0d3e0f2c7f4>:9: SettingWithCopyWarning: \n",
      "A value is trying to be set on a copy of a slice from a DataFrame\n",
      "\n",
      "See the caveats in the documentation: https://pandas.pydata.org/pandas-docs/stable/user_guide/indexing.html#returning-a-view-versus-a-copy\n",
      "  data['white'][i] = 1\n",
      "<ipython-input-63-e0d3e0f2c7f4>:17: SettingWithCopyWarning: \n",
      "A value is trying to be set on a copy of a slice from a DataFrame\n",
      "\n",
      "See the caveats in the documentation: https://pandas.pydata.org/pandas-docs/stable/user_guide/indexing.html#returning-a-view-versus-a-copy\n",
      "  data['native'][i] = 1\n",
      "<ipython-input-63-e0d3e0f2c7f4>:13: SettingWithCopyWarning: \n",
      "A value is trying to be set on a copy of a slice from a DataFrame\n",
      "\n",
      "See the caveats in the documentation: https://pandas.pydata.org/pandas-docs/stable/user_guide/indexing.html#returning-a-view-versus-a-copy\n",
      "  data['black'][i] = 1\n",
      "<ipython-input-63-e0d3e0f2c7f4>:19: SettingWithCopyWarning: \n",
      "A value is trying to be set on a copy of a slice from a DataFrame\n",
      "\n",
      "See the caveats in the documentation: https://pandas.pydata.org/pandas-docs/stable/user_guide/indexing.html#returning-a-view-versus-a-copy\n",
      "  data['white'][i] = np.nan\n",
      "/Users/admin/opt/anaconda3/lib/python3.8/site-packages/pandas/core/indexing.py:671: SettingWithCopyWarning: \n",
      "A value is trying to be set on a copy of a slice from a DataFrame\n",
      "\n",
      "See the caveats in the documentation: https://pandas.pydata.org/pandas-docs/stable/user_guide/indexing.html#returning-a-view-versus-a-copy\n",
      "  self._setitem_with_indexer(indexer, value)\n",
      "<ipython-input-63-e0d3e0f2c7f4>:20: SettingWithCopyWarning: \n",
      "A value is trying to be set on a copy of a slice from a DataFrame\n",
      "\n",
      "See the caveats in the documentation: https://pandas.pydata.org/pandas-docs/stable/user_guide/indexing.html#returning-a-view-versus-a-copy\n",
      "  data['hisp'][i] = np.nan\n",
      "<ipython-input-63-e0d3e0f2c7f4>:21: SettingWithCopyWarning: \n",
      "A value is trying to be set on a copy of a slice from a DataFrame\n",
      "\n",
      "See the caveats in the documentation: https://pandas.pydata.org/pandas-docs/stable/user_guide/indexing.html#returning-a-view-versus-a-copy\n",
      "  data['black'][i] = np.nan\n",
      "<ipython-input-63-e0d3e0f2c7f4>:22: SettingWithCopyWarning: \n",
      "A value is trying to be set on a copy of a slice from a DataFrame\n",
      "\n",
      "See the caveats in the documentation: https://pandas.pydata.org/pandas-docs/stable/user_guide/indexing.html#returning-a-view-versus-a-copy\n",
      "  data['asian'][i] = np.nan\n",
      "<ipython-input-63-e0d3e0f2c7f4>:23: SettingWithCopyWarning: \n",
      "A value is trying to be set on a copy of a slice from a DataFrame\n",
      "\n",
      "See the caveats in the documentation: https://pandas.pydata.org/pandas-docs/stable/user_guide/indexing.html#returning-a-view-versus-a-copy\n",
      "  data['native'][i] = np.nan\n"
     ]
    }
   ],
   "source": [
    "data['white'] = 0\n",
    "data['hisp'] = 0\n",
    "data['black'] = 0\n",
    "data['asian'] = 0\n",
    "data['native'] = 0\n",
    "\n",
    "for i in range(len(data)):\n",
    "    if data['V201549x'][i] == '1. White, non-Hispanic':\n",
    "        data['white'][i] = 1\n",
    "    elif data['V201549x'][i] == '3. Hispanic':\n",
    "        data['hisp'][i] = 1\n",
    "    elif data['V201549x'][i] == '2. Black, non-Hispanic':\n",
    "        data['black'][i] = 1\n",
    "    elif data['V201549x'][i] == '4. Asian or Native Hawaiian/other Pacific Islander, non-Hispanic alone':\n",
    "        data['asian'][i] = 1\n",
    "    elif data['V201549x'][i] == '5. Native American/Alaska Native or other race, non-Hispanic alone':\n",
    "        data['native'][i] = 1\n",
    "    else:\n",
    "        data['white'][i] = np.nan\n",
    "        data['hisp'][i] = np.nan\n",
    "        data['black'][i] = np.nan\n",
    "        data['asian'][i] = np.nan\n",
    "        data['native'][i] = np.nan"
   ]
  },
  {
   "cell_type": "code",
   "execution_count": 65,
   "metadata": {},
   "outputs": [
    {
     "data": {
      "text/html": [
       "<div>\n",
       "<style scoped>\n",
       "    .dataframe tbody tr th:only-of-type {\n",
       "        vertical-align: middle;\n",
       "    }\n",
       "\n",
       "    .dataframe tbody tr th {\n",
       "        vertical-align: top;\n",
       "    }\n",
       "\n",
       "    .dataframe thead th {\n",
       "        text-align: right;\n",
       "    }\n",
       "</style>\n",
       "<table border=\"1\" class=\"dataframe\">\n",
       "  <thead>\n",
       "    <tr style=\"text-align: right;\">\n",
       "      <th></th>\n",
       "      <th>white</th>\n",
       "      <th>black</th>\n",
       "      <th>hisp</th>\n",
       "      <th>asian</th>\n",
       "      <th>native</th>\n",
       "    </tr>\n",
       "  </thead>\n",
       "  <tbody>\n",
       "    <tr>\n",
       "      <th>0</th>\n",
       "      <td>0.0</td>\n",
       "      <td>0.0</td>\n",
       "      <td>1.0</td>\n",
       "      <td>0.0</td>\n",
       "      <td>0.0</td>\n",
       "    </tr>\n",
       "    <tr>\n",
       "      <th>1</th>\n",
       "      <td>0.0</td>\n",
       "      <td>0.0</td>\n",
       "      <td>0.0</td>\n",
       "      <td>1.0</td>\n",
       "      <td>0.0</td>\n",
       "    </tr>\n",
       "    <tr>\n",
       "      <th>2</th>\n",
       "      <td>1.0</td>\n",
       "      <td>0.0</td>\n",
       "      <td>0.0</td>\n",
       "      <td>0.0</td>\n",
       "      <td>0.0</td>\n",
       "    </tr>\n",
       "    <tr>\n",
       "      <th>3</th>\n",
       "      <td>0.0</td>\n",
       "      <td>0.0</td>\n",
       "      <td>0.0</td>\n",
       "      <td>1.0</td>\n",
       "      <td>0.0</td>\n",
       "    </tr>\n",
       "    <tr>\n",
       "      <th>4</th>\n",
       "      <td>0.0</td>\n",
       "      <td>0.0</td>\n",
       "      <td>0.0</td>\n",
       "      <td>0.0</td>\n",
       "      <td>1.0</td>\n",
       "    </tr>\n",
       "    <tr>\n",
       "      <th>...</th>\n",
       "      <td>...</td>\n",
       "      <td>...</td>\n",
       "      <td>...</td>\n",
       "      <td>...</td>\n",
       "      <td>...</td>\n",
       "    </tr>\n",
       "    <tr>\n",
       "      <th>8275</th>\n",
       "      <td>1.0</td>\n",
       "      <td>0.0</td>\n",
       "      <td>0.0</td>\n",
       "      <td>0.0</td>\n",
       "      <td>0.0</td>\n",
       "    </tr>\n",
       "    <tr>\n",
       "      <th>8276</th>\n",
       "      <td>1.0</td>\n",
       "      <td>0.0</td>\n",
       "      <td>0.0</td>\n",
       "      <td>0.0</td>\n",
       "      <td>0.0</td>\n",
       "    </tr>\n",
       "    <tr>\n",
       "      <th>8277</th>\n",
       "      <td>0.0</td>\n",
       "      <td>0.0</td>\n",
       "      <td>1.0</td>\n",
       "      <td>0.0</td>\n",
       "      <td>0.0</td>\n",
       "    </tr>\n",
       "    <tr>\n",
       "      <th>8278</th>\n",
       "      <td>1.0</td>\n",
       "      <td>0.0</td>\n",
       "      <td>0.0</td>\n",
       "      <td>0.0</td>\n",
       "      <td>0.0</td>\n",
       "    </tr>\n",
       "    <tr>\n",
       "      <th>8279</th>\n",
       "      <td>0.0</td>\n",
       "      <td>0.0</td>\n",
       "      <td>0.0</td>\n",
       "      <td>1.0</td>\n",
       "      <td>0.0</td>\n",
       "    </tr>\n",
       "  </tbody>\n",
       "</table>\n",
       "<p>8280 rows × 5 columns</p>\n",
       "</div>"
      ],
      "text/plain": [
       "      white  black  hisp  asian  native\n",
       "0       0.0    0.0   1.0    0.0     0.0\n",
       "1       0.0    0.0   0.0    1.0     0.0\n",
       "2       1.0    0.0   0.0    0.0     0.0\n",
       "3       0.0    0.0   0.0    1.0     0.0\n",
       "4       0.0    0.0   0.0    0.0     1.0\n",
       "...     ...    ...   ...    ...     ...\n",
       "8275    1.0    0.0   0.0    0.0     0.0\n",
       "8276    1.0    0.0   0.0    0.0     0.0\n",
       "8277    0.0    0.0   1.0    0.0     0.0\n",
       "8278    1.0    0.0   0.0    0.0     0.0\n",
       "8279    0.0    0.0   0.0    1.0     0.0\n",
       "\n",
       "[8280 rows x 5 columns]"
      ]
     },
     "execution_count": 65,
     "metadata": {},
     "output_type": "execute_result"
    }
   ],
   "source": [
    "data[['white','black','hisp','asian','native']]"
   ]
  },
  {
   "cell_type": "markdown",
   "metadata": {},
   "source": [
    "### Education"
   ]
  },
  {
   "cell_type": "code",
   "execution_count": 70,
   "metadata": {},
   "outputs": [
    {
     "data": {
      "text/plain": [
       "6. Bachelor's degree (e.g. BA, AB, BS)                                              2055\n",
       "3. Some college but no degree                                                       1684\n",
       "2.  High school graduate - High school diploma or equivalent (e.g. GED)             1336\n",
       "7. Master's degree (e.g. MA, MS, MEng, MEd, MSW, MBA)                               1185\n",
       "4. Associate degree in college - occupational/vocational                             615\n",
       "5. Associate degree in college - academic                                            491\n",
       "8. Professional school degree (e.g. MD, DDS, DVM, LLB, JD)/Doctoral degree (e.g.     407\n",
       "1. Less than high school                                                             376\n",
       "95. Other {SPECIFY}                                                                   97\n",
       "-9. Refused                                                                           33\n",
       "-8. Don't know                                                                         1\n",
       "Name: V201510, dtype: int64"
      ]
     },
     "execution_count": 70,
     "metadata": {},
     "output_type": "execute_result"
    }
   ],
   "source": [
    "data['V201510'].value_counts()"
   ]
  },
  {
   "cell_type": "markdown",
   "metadata": {},
   "source": [
    "Use highest level of education as proxy for years of education: \\\n",
    "Less than HS          9 yrs \\\n",
    "HS                   13 yrs \\\n",
    "College, no degree   15 yrs \\\n",
    "Associate            15 yrs \\\n",
    "Bachelor's           17 yrs \\\n",
    "Master's             18 yrs \\\n",
    "Doctoral             22 yrs"
   ]
  },
  {
   "cell_type": "code",
   "execution_count": 73,
   "metadata": {},
   "outputs": [
    {
     "name": "stderr",
     "output_type": "stream",
     "text": [
      "<ipython-input-73-9198764024fb>:11: SettingWithCopyWarning: \n",
      "A value is trying to be set on a copy of a slice from a DataFrame\n",
      "\n",
      "See the caveats in the documentation: https://pandas.pydata.org/pandas-docs/stable/user_guide/indexing.html#returning-a-view-versus-a-copy\n",
      "  data['education'][i] = 17\n",
      "<ipython-input-73-9198764024fb>:9: SettingWithCopyWarning: \n",
      "A value is trying to be set on a copy of a slice from a DataFrame\n",
      "\n",
      "See the caveats in the documentation: https://pandas.pydata.org/pandas-docs/stable/user_guide/indexing.html#returning-a-view-versus-a-copy\n",
      "  data['education'][i] = 15\n",
      "<ipython-input-73-9198764024fb>:7: SettingWithCopyWarning: \n",
      "A value is trying to be set on a copy of a slice from a DataFrame\n",
      "\n",
      "See the caveats in the documentation: https://pandas.pydata.org/pandas-docs/stable/user_guide/indexing.html#returning-a-view-versus-a-copy\n",
      "  data['education'][i] = 13\n",
      "<ipython-input-73-9198764024fb>:15: SettingWithCopyWarning: \n",
      "A value is trying to be set on a copy of a slice from a DataFrame\n",
      "\n",
      "See the caveats in the documentation: https://pandas.pydata.org/pandas-docs/stable/user_guide/indexing.html#returning-a-view-versus-a-copy\n",
      "  data['education'][i] = 22\n",
      "<ipython-input-73-9198764024fb>:13: SettingWithCopyWarning: \n",
      "A value is trying to be set on a copy of a slice from a DataFrame\n",
      "\n",
      "See the caveats in the documentation: https://pandas.pydata.org/pandas-docs/stable/user_guide/indexing.html#returning-a-view-versus-a-copy\n",
      "  data['education'][i] = 18\n",
      "<ipython-input-73-9198764024fb>:5: SettingWithCopyWarning: \n",
      "A value is trying to be set on a copy of a slice from a DataFrame\n",
      "\n",
      "See the caveats in the documentation: https://pandas.pydata.org/pandas-docs/stable/user_guide/indexing.html#returning-a-view-versus-a-copy\n",
      "  data['education'][i] = 9\n"
     ]
    }
   ],
   "source": [
    "data['education'] = np.nan\n",
    "\n",
    "for i in range(len(data)):\n",
    "    if data['V201510'][i] == '1. Less than high school':\n",
    "        data['education'][i] = 9\n",
    "    if data['V201510'][i] == '2.  High school graduate - High school diploma or equivalent (e.g. GED)':\n",
    "        data['education'][i] = 13\n",
    "    if data['V201510'][i] in ['3. Some college but no degree','4. Associate degree in college - occupational/vocational','5. Associate degree in college - academic']:\n",
    "        data['education'][i] = 15\n",
    "    if data['V201510'][i] == \"6. Bachelor's degree (e.g. BA, AB, BS)\":\n",
    "        data['education'][i] = 17\n",
    "    if data['V201510'][i] == \"7. Master's degree (e.g. MA, MS, MEng, MEd, MSW, MBA)\":\n",
    "        data['education'][i] = 18\n",
    "    if data['V201510'][i].startswith('8'):\n",
    "        data['education'][i] = 22"
   ]
  },
  {
   "cell_type": "code",
   "execution_count": 74,
   "metadata": {},
   "outputs": [
    {
     "data": {
      "text/plain": [
       "15.0    2790\n",
       "17.0    2055\n",
       "13.0    1336\n",
       "18.0    1185\n",
       "22.0     407\n",
       "9.0      376\n",
       "Name: education, dtype: int64"
      ]
     },
     "execution_count": 74,
     "metadata": {},
     "output_type": "execute_result"
    }
   ],
   "source": [
    "data['education'].value_counts()"
   ]
  },
  {
   "cell_type": "markdown",
   "metadata": {},
   "source": [
    "### Religion"
   ]
  },
  {
   "cell_type": "code",
   "execution_count": 79,
   "metadata": {},
   "outputs": [
    {
     "data": {
      "text/plain": [
       "1. Protestant                                                2113\n",
       "2. Roman Catholic                                            1640\n",
       "11. Something else                                           1555\n",
       "12. Nothing in particular                                    1475\n",
       "10. Agnostic                                                  456\n",
       "9. Atheist                                                    340\n",
       "5. Jewish                                                     188\n",
       "3. Orthodox Christian (such as Greek or Russian Orthodox)     154\n",
       "4. Latter-Day Saints (LDS)                                    113\n",
       "-9. Refused                                                    81\n",
       "7. Buddhist                                                    74\n",
       "6. Muslim                                                      48\n",
       "8. Hindu                                                       41\n",
       "-8. Don't know                                                  2\n",
       "Name: V201435, dtype: int64"
      ]
     },
     "execution_count": 79,
     "metadata": {},
     "output_type": "execute_result"
    }
   ],
   "source": [
    "data['V201435'].value_counts()"
   ]
  },
  {
   "cell_type": "code",
   "execution_count": 92,
   "metadata": {},
   "outputs": [
    {
     "name": "stderr",
     "output_type": "stream",
     "text": [
      "<ipython-input-92-dacb6f61a26c>:16: SettingWithCopyWarning: \n",
      "A value is trying to be set on a copy of a slice from a DataFrame\n",
      "\n",
      "See the caveats in the documentation: https://pandas.pydata.org/pandas-docs/stable/user_guide/indexing.html#returning-a-view-versus-a-copy\n",
      "  data['rel_chr'][i] = np.nan\n",
      "/Users/admin/opt/anaconda3/lib/python3.8/site-packages/pandas/core/indexing.py:671: SettingWithCopyWarning: \n",
      "A value is trying to be set on a copy of a slice from a DataFrame\n",
      "\n",
      "See the caveats in the documentation: https://pandas.pydata.org/pandas-docs/stable/user_guide/indexing.html#returning-a-view-versus-a-copy\n",
      "  self._setitem_with_indexer(indexer, value)\n",
      "<ipython-input-92-dacb6f61a26c>:17: SettingWithCopyWarning: \n",
      "A value is trying to be set on a copy of a slice from a DataFrame\n",
      "\n",
      "See the caveats in the documentation: https://pandas.pydata.org/pandas-docs/stable/user_guide/indexing.html#returning-a-view-versus-a-copy\n",
      "  data['rel_jew'][i] = np.nan\n",
      "<ipython-input-92-dacb6f61a26c>:18: SettingWithCopyWarning: \n",
      "A value is trying to be set on a copy of a slice from a DataFrame\n",
      "\n",
      "See the caveats in the documentation: https://pandas.pydata.org/pandas-docs/stable/user_guide/indexing.html#returning-a-view-versus-a-copy\n",
      "  data['rel_mus'][i] = np.nan\n",
      "<ipython-input-92-dacb6f61a26c>:19: SettingWithCopyWarning: \n",
      "A value is trying to be set on a copy of a slice from a DataFrame\n",
      "\n",
      "See the caveats in the documentation: https://pandas.pydata.org/pandas-docs/stable/user_guide/indexing.html#returning-a-view-versus-a-copy\n",
      "  data['rel_ath'][i] = np.nan\n",
      "<ipython-input-92-dacb6f61a26c>:8: SettingWithCopyWarning: \n",
      "A value is trying to be set on a copy of a slice from a DataFrame\n",
      "\n",
      "See the caveats in the documentation: https://pandas.pydata.org/pandas-docs/stable/user_guide/indexing.html#returning-a-view-versus-a-copy\n",
      "  data['rel_chr'][i] = 1\n",
      "<ipython-input-92-dacb6f61a26c>:14: SettingWithCopyWarning: \n",
      "A value is trying to be set on a copy of a slice from a DataFrame\n",
      "\n",
      "See the caveats in the documentation: https://pandas.pydata.org/pandas-docs/stable/user_guide/indexing.html#returning-a-view-versus-a-copy\n",
      "  data['rel_ath'][i] = 1\n",
      "<ipython-input-92-dacb6f61a26c>:10: SettingWithCopyWarning: \n",
      "A value is trying to be set on a copy of a slice from a DataFrame\n",
      "\n",
      "See the caveats in the documentation: https://pandas.pydata.org/pandas-docs/stable/user_guide/indexing.html#returning-a-view-versus-a-copy\n",
      "  data['rel_jew'][i] = 1\n",
      "<ipython-input-92-dacb6f61a26c>:12: SettingWithCopyWarning: \n",
      "A value is trying to be set on a copy of a slice from a DataFrame\n",
      "\n",
      "See the caveats in the documentation: https://pandas.pydata.org/pandas-docs/stable/user_guide/indexing.html#returning-a-view-versus-a-copy\n",
      "  data['rel_mus'][i] = 1\n"
     ]
    }
   ],
   "source": [
    "data['rel_chr'] = 0\n",
    "data['rel_jew'] = 0\n",
    "data['rel_mus'] = 0\n",
    "data['rel_ath'] = 0\n",
    "\n",
    "for i in range(len(data)):\n",
    "    if data['V201435'][i].startswith(('1.','2.','3.')):\n",
    "        data['rel_chr'][i] = 1\n",
    "    elif data['V201435'][i].startswith('5.'):\n",
    "        data['rel_jew'][i] = 1\n",
    "    elif data['V201435'][i].startswith('6.'):\n",
    "        data['rel_mus'][i] = 1\n",
    "    elif data['V201435'][i].startswith(('9.','10.')):\n",
    "        data['rel_ath'][i] = 1\n",
    "    else:\n",
    "        data['rel_chr'][i] = np.nan\n",
    "        data['rel_jew'][i] = np.nan\n",
    "        data['rel_mus'][i] = np.nan\n",
    "        data['rel_ath'][i] = np.nan"
   ]
  },
  {
   "cell_type": "code",
   "execution_count": 101,
   "metadata": {},
   "outputs": [
    {
     "data": {
      "text/plain": [
       "188.0"
      ]
     },
     "execution_count": 101,
     "metadata": {},
     "output_type": "execute_result"
    }
   ],
   "source": [
    "# make sure it worked\n",
    "sum(data['rel_jew'].dropna())"
   ]
  },
  {
   "cell_type": "markdown",
   "metadata": {},
   "source": [
    "### Income"
   ]
  },
  {
   "cell_type": "code",
   "execution_count": 122,
   "metadata": {},
   "outputs": [
    {
     "data": {
      "text/plain": [
       "1. Under $9,999                                   720\n",
       "-9. Refused                                       583\n",
       "10. $50,000-59,999                                546\n",
       "17. $100,000-109,999                              506\n",
       "22. $250,000 or more                              449\n",
       "15. $80,000-89,999                                426\n",
       "21. $175,000-249,999                              415\n",
       "20. $150,000-174,999                              404\n",
       "19. $125,000-149,999                              347\n",
       "18. $110,000-124,999                              343\n",
       "6. $30,000-34,999                                 327\n",
       "11. $60,000-64,999                                325\n",
       "4. $20,000-24,999                                 324\n",
       "8. $40,000-44,999                                 321\n",
       "16. $90,000-99,999                                304\n",
       "2. $10,000-14,999                                 282\n",
       "13. $70,000-74,999                                264\n",
       "5. $25,000-29,999                                 263\n",
       "7. $35,000-39,999                                 243\n",
       "14. $75,000-79,999                                233\n",
       "9. $45,000-49,999                                 230\n",
       "3. $15,000-19,999                                 211\n",
       "12. $65,000-69,999                                182\n",
       "-5. Interview breakoff (sufficient partial IW)     32\n",
       "Name: V201617x, dtype: int64"
      ]
     },
     "execution_count": 122,
     "metadata": {},
     "output_type": "execute_result"
    }
   ],
   "source": [
    "data['V201617x'].value_counts()"
   ]
  },
  {
   "cell_type": "markdown",
   "metadata": {},
   "source": [
    "In order to not have too many dummy variables, I will take the lowest number of the range that was indicated in the survey as their income. It would be better if we had the exact income for each person (especially for the super rich), but this is the closest we can get from the data at hand. The one big problem is with the peopl earning less than USD 9,999, nevertheless I indicated them as USD 0."
   ]
  },
  {
   "cell_type": "code",
   "execution_count": 158,
   "metadata": {},
   "outputs": [
    {
     "name": "stderr",
     "output_type": "stream",
     "text": [
      "<ipython-input-158-02df5210c5bb>:11: SettingWithCopyWarning: \n",
      "A value is trying to be set on a copy of a slice from a DataFrame\n",
      "\n",
      "See the caveats in the documentation: https://pandas.pydata.org/pandas-docs/stable/user_guide/indexing.html#returning-a-view-versus-a-copy\n",
      "  data['income'][i] = int(temp)\n"
     ]
    }
   ],
   "source": [
    "data['income'] = np.nan\n",
    "\n",
    "for i in range(len(data)):\n",
    "    try:\n",
    "        temp = data['V201617x'][i].split('$')\n",
    "        temp = temp[1].split('-')[0].replace(',','')\n",
    "        if temp.endswith('e'):\n",
    "            temp = temp[0:6]\n",
    "        if temp.startswith('99'):\n",
    "            temp = 0\n",
    "        data['income'][i] = int(temp)\n",
    "    except IndexError:\n",
    "        continue"
   ]
  },
  {
   "cell_type": "code",
   "execution_count": 159,
   "metadata": {},
   "outputs": [
    {
     "data": {
      "text/plain": [
       "0.0         720\n",
       "50000.0     546\n",
       "100000.0    506\n",
       "250000.0    449\n",
       "80000.0     426\n",
       "175000.0    415\n",
       "150000.0    404\n",
       "125000.0    347\n",
       "110000.0    343\n",
       "30000.0     327\n",
       "60000.0     325\n",
       "20000.0     324\n",
       "40000.0     321\n",
       "90000.0     304\n",
       "10000.0     282\n",
       "70000.0     264\n",
       "25000.0     263\n",
       "35000.0     243\n",
       "75000.0     233\n",
       "45000.0     230\n",
       "15000.0     211\n",
       "65000.0     182\n",
       "Name: income, dtype: int64"
      ]
     },
     "execution_count": 159,
     "metadata": {},
     "output_type": "execute_result"
    }
   ],
   "source": [
    "data['income'].value_counts()"
   ]
  },
  {
   "cell_type": "markdown",
   "metadata": {},
   "source": [
    "### Candidate voted for"
   ]
  },
  {
   "cell_type": "code",
   "execution_count": 163,
   "metadata": {},
   "outputs": [
    {
     "name": "stderr",
     "output_type": "stream",
     "text": [
      "<ipython-input-163-76ef21a60803>:7: SettingWithCopyWarning: \n",
      "A value is trying to be set on a copy of a slice from a DataFrame\n",
      "\n",
      "See the caveats in the documentation: https://pandas.pydata.org/pandas-docs/stable/user_guide/indexing.html#returning-a-view-versus-a-copy\n",
      "  data['vote'][i] = 1\n",
      "<ipython-input-163-76ef21a60803>:9: SettingWithCopyWarning: \n",
      "A value is trying to be set on a copy of a slice from a DataFrame\n",
      "\n",
      "See the caveats in the documentation: https://pandas.pydata.org/pandas-docs/stable/user_guide/indexing.html#returning-a-view-versus-a-copy\n",
      "  data['vote'][i] = 0\n"
     ]
    }
   ],
   "source": [
    "# only looking at the people that actually voted\n",
    "data['vote'] = np.nan\n",
    "\n",
    "# 0 = Trump, 1 = Biden\n",
    "for i in range(len(data)):\n",
    "    if data['V202073'][i].startswith('1'):\n",
    "        data['vote'][i] = 1\n",
    "    elif data['V202073'][i].startswith('2'):\n",
    "        data['vote'][i] = 0"
   ]
  },
  {
   "cell_type": "code",
   "execution_count": 165,
   "metadata": {},
   "outputs": [
    {
     "data": {
      "text/plain": [
       "1.0    3270\n",
       "0.0    2463\n",
       "Name: vote, dtype: int64"
      ]
     },
     "execution_count": 165,
     "metadata": {},
     "output_type": "execute_result"
    }
   ],
   "source": [
    "data['vote'].value_counts()"
   ]
  },
  {
   "cell_type": "markdown",
   "metadata": {},
   "source": [
    "However, apparently none of the people that indicated how they voted (`vbm`) also mentioned who they voted for. Thus, a regression isn't possible. Hence I also took the variable indicating who they prefer."
   ]
  },
  {
   "cell_type": "markdown",
   "metadata": {},
   "source": [
    "### Participant ID"
   ]
  },
  {
   "cell_type": "code",
   "execution_count": 160,
   "metadata": {},
   "outputs": [],
   "source": [
    "data['id'] = np.nan\n",
    "\n",
    "for i in range(len(data)):\n",
    "    data['id'] = data['V200001']"
   ]
  },
  {
   "cell_type": "markdown",
   "metadata": {},
   "source": [
    "## Create data set with the new variables"
   ]
  },
  {
   "cell_type": "code",
   "execution_count": 169,
   "metadata": {},
   "outputs": [
    {
     "data": {
      "text/html": [
       "<div>\n",
       "<style scoped>\n",
       "    .dataframe tbody tr th:only-of-type {\n",
       "        vertical-align: middle;\n",
       "    }\n",
       "\n",
       "    .dataframe tbody tr th {\n",
       "        vertical-align: top;\n",
       "    }\n",
       "\n",
       "    .dataframe thead th {\n",
       "        text-align: right;\n",
       "    }\n",
       "</style>\n",
       "<table border=\"1\" class=\"dataframe\">\n",
       "  <thead>\n",
       "    <tr style=\"text-align: right;\">\n",
       "      <th></th>\n",
       "      <th>id</th>\n",
       "      <th>vote</th>\n",
       "      <th>sex</th>\n",
       "      <th>sex_orientation</th>\n",
       "      <th>vbm</th>\n",
       "      <th>income</th>\n",
       "      <th>education</th>\n",
       "      <th>white</th>\n",
       "      <th>black</th>\n",
       "      <th>hisp</th>\n",
       "      <th>...</th>\n",
       "      <th>city</th>\n",
       "      <th>dist_0-15</th>\n",
       "      <th>dist_16-30</th>\n",
       "      <th>dist_31-59</th>\n",
       "      <th>dist_60-120</th>\n",
       "      <th>dist_120+</th>\n",
       "      <th>rel_chr</th>\n",
       "      <th>rel_jew</th>\n",
       "      <th>rel_mus</th>\n",
       "      <th>rel_ath</th>\n",
       "    </tr>\n",
       "  </thead>\n",
       "  <tbody>\n",
       "    <tr>\n",
       "      <th>0</th>\n",
       "      <td>200015.0</td>\n",
       "      <td>NaN</td>\n",
       "      <td>1.0</td>\n",
       "      <td>0.0</td>\n",
       "      <td>NaN</td>\n",
       "      <td>175000.0</td>\n",
       "      <td>17.0</td>\n",
       "      <td>0.0</td>\n",
       "      <td>0.0</td>\n",
       "      <td>1.0</td>\n",
       "      <td>...</td>\n",
       "      <td>1.0</td>\n",
       "      <td>NaN</td>\n",
       "      <td>NaN</td>\n",
       "      <td>NaN</td>\n",
       "      <td>NaN</td>\n",
       "      <td>NaN</td>\n",
       "      <td>NaN</td>\n",
       "      <td>NaN</td>\n",
       "      <td>NaN</td>\n",
       "      <td>NaN</td>\n",
       "    </tr>\n",
       "    <tr>\n",
       "      <th>1</th>\n",
       "      <td>200022.0</td>\n",
       "      <td>NaN</td>\n",
       "      <td>0.0</td>\n",
       "      <td>0.0</td>\n",
       "      <td>NaN</td>\n",
       "      <td>70000.0</td>\n",
       "      <td>15.0</td>\n",
       "      <td>0.0</td>\n",
       "      <td>0.0</td>\n",
       "      <td>0.0</td>\n",
       "      <td>...</td>\n",
       "      <td>0.0</td>\n",
       "      <td>1.0</td>\n",
       "      <td>0.0</td>\n",
       "      <td>0.0</td>\n",
       "      <td>0.0</td>\n",
       "      <td>0.0</td>\n",
       "      <td>NaN</td>\n",
       "      <td>NaN</td>\n",
       "      <td>NaN</td>\n",
       "      <td>NaN</td>\n",
       "    </tr>\n",
       "    <tr>\n",
       "      <th>2</th>\n",
       "      <td>200039.0</td>\n",
       "      <td>1.0</td>\n",
       "      <td>0.0</td>\n",
       "      <td>0.0</td>\n",
       "      <td>NaN</td>\n",
       "      <td>100000.0</td>\n",
       "      <td>13.0</td>\n",
       "      <td>1.0</td>\n",
       "      <td>0.0</td>\n",
       "      <td>0.0</td>\n",
       "      <td>...</td>\n",
       "      <td>0.0</td>\n",
       "      <td>NaN</td>\n",
       "      <td>NaN</td>\n",
       "      <td>NaN</td>\n",
       "      <td>NaN</td>\n",
       "      <td>NaN</td>\n",
       "      <td>NaN</td>\n",
       "      <td>NaN</td>\n",
       "      <td>NaN</td>\n",
       "      <td>NaN</td>\n",
       "    </tr>\n",
       "    <tr>\n",
       "      <th>3</th>\n",
       "      <td>200046.0</td>\n",
       "      <td>1.0</td>\n",
       "      <td>1.0</td>\n",
       "      <td>0.0</td>\n",
       "      <td>NaN</td>\n",
       "      <td>35000.0</td>\n",
       "      <td>15.0</td>\n",
       "      <td>0.0</td>\n",
       "      <td>0.0</td>\n",
       "      <td>0.0</td>\n",
       "      <td>...</td>\n",
       "      <td>0.0</td>\n",
       "      <td>NaN</td>\n",
       "      <td>NaN</td>\n",
       "      <td>NaN</td>\n",
       "      <td>NaN</td>\n",
       "      <td>NaN</td>\n",
       "      <td>1.0</td>\n",
       "      <td>0.0</td>\n",
       "      <td>0.0</td>\n",
       "      <td>0.0</td>\n",
       "    </tr>\n",
       "    <tr>\n",
       "      <th>4</th>\n",
       "      <td>200053.0</td>\n",
       "      <td>0.0</td>\n",
       "      <td>1.0</td>\n",
       "      <td>0.0</td>\n",
       "      <td>NaN</td>\n",
       "      <td>250000.0</td>\n",
       "      <td>22.0</td>\n",
       "      <td>0.0</td>\n",
       "      <td>0.0</td>\n",
       "      <td>0.0</td>\n",
       "      <td>...</td>\n",
       "      <td>1.0</td>\n",
       "      <td>1.0</td>\n",
       "      <td>0.0</td>\n",
       "      <td>0.0</td>\n",
       "      <td>0.0</td>\n",
       "      <td>0.0</td>\n",
       "      <td>NaN</td>\n",
       "      <td>NaN</td>\n",
       "      <td>NaN</td>\n",
       "      <td>NaN</td>\n",
       "    </tr>\n",
       "    <tr>\n",
       "      <th>...</th>\n",
       "      <td>...</td>\n",
       "      <td>...</td>\n",
       "      <td>...</td>\n",
       "      <td>...</td>\n",
       "      <td>...</td>\n",
       "      <td>...</td>\n",
       "      <td>...</td>\n",
       "      <td>...</td>\n",
       "      <td>...</td>\n",
       "      <td>...</td>\n",
       "      <td>...</td>\n",
       "      <td>...</td>\n",
       "      <td>...</td>\n",
       "      <td>...</td>\n",
       "      <td>...</td>\n",
       "      <td>...</td>\n",
       "      <td>...</td>\n",
       "      <td>...</td>\n",
       "      <td>...</td>\n",
       "      <td>...</td>\n",
       "      <td>...</td>\n",
       "    </tr>\n",
       "    <tr>\n",
       "      <th>8275</th>\n",
       "      <td>535315.0</td>\n",
       "      <td>NaN</td>\n",
       "      <td>0.0</td>\n",
       "      <td>0.0</td>\n",
       "      <td>NaN</td>\n",
       "      <td>40000.0</td>\n",
       "      <td>15.0</td>\n",
       "      <td>1.0</td>\n",
       "      <td>0.0</td>\n",
       "      <td>0.0</td>\n",
       "      <td>...</td>\n",
       "      <td>0.0</td>\n",
       "      <td>NaN</td>\n",
       "      <td>NaN</td>\n",
       "      <td>NaN</td>\n",
       "      <td>NaN</td>\n",
       "      <td>NaN</td>\n",
       "      <td>NaN</td>\n",
       "      <td>NaN</td>\n",
       "      <td>NaN</td>\n",
       "      <td>NaN</td>\n",
       "    </tr>\n",
       "    <tr>\n",
       "      <th>8276</th>\n",
       "      <td>535360.0</td>\n",
       "      <td>0.0</td>\n",
       "      <td>0.0</td>\n",
       "      <td>0.0</td>\n",
       "      <td>NaN</td>\n",
       "      <td>125000.0</td>\n",
       "      <td>17.0</td>\n",
       "      <td>1.0</td>\n",
       "      <td>0.0</td>\n",
       "      <td>0.0</td>\n",
       "      <td>...</td>\n",
       "      <td>1.0</td>\n",
       "      <td>1.0</td>\n",
       "      <td>0.0</td>\n",
       "      <td>0.0</td>\n",
       "      <td>0.0</td>\n",
       "      <td>0.0</td>\n",
       "      <td>NaN</td>\n",
       "      <td>NaN</td>\n",
       "      <td>NaN</td>\n",
       "      <td>NaN</td>\n",
       "    </tr>\n",
       "    <tr>\n",
       "      <th>8277</th>\n",
       "      <td>535414.0</td>\n",
       "      <td>1.0</td>\n",
       "      <td>1.0</td>\n",
       "      <td>0.0</td>\n",
       "      <td>NaN</td>\n",
       "      <td>90000.0</td>\n",
       "      <td>13.0</td>\n",
       "      <td>0.0</td>\n",
       "      <td>0.0</td>\n",
       "      <td>1.0</td>\n",
       "      <td>...</td>\n",
       "      <td>0.0</td>\n",
       "      <td>NaN</td>\n",
       "      <td>NaN</td>\n",
       "      <td>NaN</td>\n",
       "      <td>NaN</td>\n",
       "      <td>NaN</td>\n",
       "      <td>1.0</td>\n",
       "      <td>0.0</td>\n",
       "      <td>0.0</td>\n",
       "      <td>0.0</td>\n",
       "    </tr>\n",
       "    <tr>\n",
       "      <th>8278</th>\n",
       "      <td>535421.0</td>\n",
       "      <td>NaN</td>\n",
       "      <td>0.0</td>\n",
       "      <td>0.0</td>\n",
       "      <td>0.0</td>\n",
       "      <td>75000.0</td>\n",
       "      <td>15.0</td>\n",
       "      <td>1.0</td>\n",
       "      <td>0.0</td>\n",
       "      <td>0.0</td>\n",
       "      <td>...</td>\n",
       "      <td>0.0</td>\n",
       "      <td>1.0</td>\n",
       "      <td>0.0</td>\n",
       "      <td>0.0</td>\n",
       "      <td>0.0</td>\n",
       "      <td>0.0</td>\n",
       "      <td>1.0</td>\n",
       "      <td>0.0</td>\n",
       "      <td>0.0</td>\n",
       "      <td>0.0</td>\n",
       "    </tr>\n",
       "    <tr>\n",
       "      <th>8279</th>\n",
       "      <td>535469.0</td>\n",
       "      <td>1.0</td>\n",
       "      <td>0.0</td>\n",
       "      <td>0.0</td>\n",
       "      <td>NaN</td>\n",
       "      <td>80000.0</td>\n",
       "      <td>18.0</td>\n",
       "      <td>0.0</td>\n",
       "      <td>0.0</td>\n",
       "      <td>0.0</td>\n",
       "      <td>...</td>\n",
       "      <td>0.0</td>\n",
       "      <td>1.0</td>\n",
       "      <td>0.0</td>\n",
       "      <td>0.0</td>\n",
       "      <td>0.0</td>\n",
       "      <td>0.0</td>\n",
       "      <td>NaN</td>\n",
       "      <td>NaN</td>\n",
       "      <td>NaN</td>\n",
       "      <td>NaN</td>\n",
       "    </tr>\n",
       "  </tbody>\n",
       "</table>\n",
       "<p>8280 rows × 25 columns</p>\n",
       "</div>"
      ],
      "text/plain": [
       "            id  vote  sex  sex_orientation  vbm    income  education  white  \\\n",
       "0     200015.0   NaN  1.0              0.0  NaN  175000.0       17.0    0.0   \n",
       "1     200022.0   NaN  0.0              0.0  NaN   70000.0       15.0    0.0   \n",
       "2     200039.0   1.0  0.0              0.0  NaN  100000.0       13.0    1.0   \n",
       "3     200046.0   1.0  1.0              0.0  NaN   35000.0       15.0    0.0   \n",
       "4     200053.0   0.0  1.0              0.0  NaN  250000.0       22.0    0.0   \n",
       "...        ...   ...  ...              ...  ...       ...        ...    ...   \n",
       "8275  535315.0   NaN  0.0              0.0  NaN   40000.0       15.0    1.0   \n",
       "8276  535360.0   0.0  0.0              0.0  NaN  125000.0       17.0    1.0   \n",
       "8277  535414.0   1.0  1.0              0.0  NaN   90000.0       13.0    0.0   \n",
       "8278  535421.0   NaN  0.0              0.0  0.0   75000.0       15.0    1.0   \n",
       "8279  535469.0   1.0  0.0              0.0  NaN   80000.0       18.0    0.0   \n",
       "\n",
       "      black  hisp  ...  city  dist_0-15  dist_16-30  dist_31-59  dist_60-120  \\\n",
       "0       0.0   1.0  ...   1.0        NaN         NaN         NaN          NaN   \n",
       "1       0.0   0.0  ...   0.0        1.0         0.0         0.0          0.0   \n",
       "2       0.0   0.0  ...   0.0        NaN         NaN         NaN          NaN   \n",
       "3       0.0   0.0  ...   0.0        NaN         NaN         NaN          NaN   \n",
       "4       0.0   0.0  ...   1.0        1.0         0.0         0.0          0.0   \n",
       "...     ...   ...  ...   ...        ...         ...         ...          ...   \n",
       "8275    0.0   0.0  ...   0.0        NaN         NaN         NaN          NaN   \n",
       "8276    0.0   0.0  ...   1.0        1.0         0.0         0.0          0.0   \n",
       "8277    0.0   1.0  ...   0.0        NaN         NaN         NaN          NaN   \n",
       "8278    0.0   0.0  ...   0.0        1.0         0.0         0.0          0.0   \n",
       "8279    0.0   0.0  ...   0.0        1.0         0.0         0.0          0.0   \n",
       "\n",
       "      dist_120+  rel_chr  rel_jew  rel_mus  rel_ath  \n",
       "0           NaN      NaN      NaN      NaN      NaN  \n",
       "1           0.0      NaN      NaN      NaN      NaN  \n",
       "2           NaN      NaN      NaN      NaN      NaN  \n",
       "3           NaN      1.0      0.0      0.0      0.0  \n",
       "4           0.0      NaN      NaN      NaN      NaN  \n",
       "...         ...      ...      ...      ...      ...  \n",
       "8275        NaN      NaN      NaN      NaN      NaN  \n",
       "8276        0.0      NaN      NaN      NaN      NaN  \n",
       "8277        NaN      1.0      0.0      0.0      0.0  \n",
       "8278        0.0      1.0      0.0      0.0      0.0  \n",
       "8279        0.0      NaN      NaN      NaN      NaN  \n",
       "\n",
       "[8280 rows x 25 columns]"
      ]
     },
     "execution_count": 169,
     "metadata": {},
     "output_type": "execute_result"
    }
   ],
   "source": [
    "vbm = data[['id','vote','sex','sex_orientation','vbm','income','education','white','black','hisp','asian','native','rural','town','suburb','city','dist_0-15','dist_16-30','dist_31-59','dist_60-120','dist_120+','rel_chr','rel_jew','rel_mus','rel_ath']]\n",
    "vbm.to_csv('../data_clean/vbm.csv')\n",
    "vbm"
   ]
  },
  {
   "cell_type": "markdown",
   "metadata": {},
   "source": [
    "## Regression analysis"
   ]
  },
  {
   "cell_type": "markdown",
   "metadata": {},
   "source": [
    "The analysis is done in the form of a linear probability model (LPM) in a separate R script (`vbm_reg.R`). "
   ]
  },
  {
   "cell_type": "markdown",
   "metadata": {},
   "source": [
    "## Work schedule"
   ]
  },
  {
   "cell_type": "code",
   "execution_count": 40,
   "metadata": {},
   "outputs": [
    {
     "data": {
      "text/plain": [
       "0. Not mentioned                                                  6229\n",
       "-1. Inapplicable                                                  1045\n",
       "-6. No post-election interview                                     750\n",
       "1. Mentioned                                                       175\n",
       "-7. No post-election data, deleted due to incomplete interview      77\n",
       "-5. Interview breakoff (sufficient partial IW)                       2\n",
       "-9. Refused                                                          2\n",
       "Name: V202120g, dtype: int64"
      ]
     },
     "execution_count": 40,
     "metadata": {},
     "output_type": "execute_result"
    }
   ],
   "source": [
    "data['V202120g'].value_counts()"
   ]
  },
  {
   "cell_type": "code",
   "execution_count": 211,
   "metadata": {},
   "outputs": [
    {
     "name": "stdout",
     "output_type": "stream",
     "text": [
      "Share of people that encountered problems with their work schedule:  0.02733 %\n"
     ]
    },
    {
     "data": {
      "text/plain": [
       "6404"
      ]
     },
     "execution_count": 211,
     "metadata": {},
     "output_type": "execute_result"
    }
   ],
   "source": [
    "s = round(175/(6229+175),5)\n",
    "print('Share of people that encountered problems with their work schedule: ', s,'%')"
   ]
  },
  {
   "cell_type": "markdown",
   "metadata": {},
   "source": [
    "## Analyzing the people that voted by mail"
   ]
  },
  {
   "cell_type": "markdown",
   "metadata": {},
   "source": [
    "Unfortunately, all the people that did vote by mail did not indicate who they voted for:"
   ]
  },
  {
   "cell_type": "code",
   "execution_count": 176,
   "metadata": {},
   "outputs": [
    {
     "data": {
      "text/plain": [
       "array([nan])"
      ]
     },
     "execution_count": 176,
     "metadata": {},
     "output_type": "execute_result"
    }
   ],
   "source": [
    "vbm[vbm['vbm'] == 1]['vote'].unique()"
   ]
  },
  {
   "cell_type": "code",
   "execution_count": 206,
   "metadata": {},
   "outputs": [
    {
     "name": "stdout",
     "output_type": "stream",
     "text": [
      "Share of people voting by mail by race:\n",
      "White:     0.7066\n",
      "Black:     0.1116\n",
      "Asian:     0.0207\n",
      "Hispanic:  0.0992\n",
      "Native:    0.0083\n",
      "Other:     0.0537\n"
     ]
    }
   ],
   "source": [
    "# RACE\n",
    "\n",
    "x = vbm[vbm['vbm'] == 1]\n",
    "\n",
    "tot = len(x) # 242 (ONLY!!!)\n",
    "s_w = len(x[x['white'] == 1])\n",
    "s_b = len(x[x['black'] == 1])\n",
    "s_a = len(x[x['asian'] == 1])\n",
    "s_h = len(x[x['hisp'] == 1])\n",
    "s_n = len(x[x['native'] == 1])\n",
    "\n",
    "print('Share of people voting by mail by race:')\n",
    "print('White:    ',round(s_w/tot,4))\n",
    "print('Black:    ',round(s_b/tot,4))\n",
    "print('Asian:    ',round(s_a/tot,4))\n",
    "print('Hispanic: ',round(s_h/tot,4))\n",
    "print('Native:   ',round(s_n/tot,4))\n",
    "print('Other:    ',round(1-(s_w+s_b+s_h+s_a+s_n)/tot,4))"
   ]
  },
  {
   "cell_type": "code",
   "execution_count": 196,
   "metadata": {},
   "outputs": [
    {
     "name": "stdout",
     "output_type": "stream",
     "text": [
      "Share of people voting by mail by religion:\n",
      "Christian:  0.78\n",
      "Muslim:     0.01\n",
      "Jewish:     0.06\n",
      "Atheist:    0.14\n",
      "Other:      0.0\n"
     ]
    }
   ],
   "source": [
    "# RELIGION\n",
    "\n",
    "s_chr = len(x[x['rel_chr'] == 1])\n",
    "s_mus = len(x[x['rel_mus'] == 1])\n",
    "s_jew = len(x[x['rel_jew'] == 1])\n",
    "s_ath = len(x[x['rel_ath'] == 1])\n",
    "\n",
    "tot = s_chr+s_mus+s_jew+s_ath\n",
    "\n",
    "print('Share of people voting by mail by religion:')\n",
    "print('Christian: ',round(s_chr/tot,2))\n",
    "print('Muslim:    ',round(s_mus/tot,2))\n",
    "print('Jewish:    ',round(s_jew/tot,2))\n",
    "print('Atheist:   ',round(s_ath/tot,2))"
   ]
  },
  {
   "cell_type": "code",
   "execution_count": 207,
   "metadata": {},
   "outputs": [
    {
     "name": "stdout",
     "output_type": "stream",
     "text": [
      "Share of people voting by mail by sex:\n",
      "Men:    0.4545\n",
      "Women:  0.5289\n",
      "Other:  0.0165\n"
     ]
    }
   ],
   "source": [
    "# SEX\n",
    "\n",
    "s_m = len(x[x['sex'] == 1])\n",
    "s_f = len(x[x['sex'] == 0])\n",
    "\n",
    "print('Share of people voting by mail by sex:')\n",
    "print('Men:   ',round(s_m/tot,4))\n",
    "print('Women: ',round(s_f/tot,4))\n",
    "print('Other: ',round(1-(s_m+s_f)/tot,4))"
   ]
  },
  {
   "cell_type": "code",
   "execution_count": 208,
   "metadata": {},
   "outputs": [
    {
     "name": "stdout",
     "output_type": "stream",
     "text": [
      "Share of people voting by mail by area:\n",
      "Rural:   0.1464\n",
      "Town:    0.2678\n",
      "Suburb:  0.2594\n",
      "City:    0.3264\n"
     ]
    }
   ],
   "source": [
    "# AREA\n",
    "\n",
    "s_r = len(x[x['rural'] == 1])\n",
    "s_t = len(x[x['town'] == 1])\n",
    "s_s = len(x[x['suburb'] == 1])\n",
    "s_c = len(x[x['city'] == 1])\n",
    "\n",
    "tot = s_r+s_t+s_s+s_c\n",
    "\n",
    "print('Share of people voting by mail by area:')\n",
    "print('Rural:  ',round(s_r/tot,4))\n",
    "print('Town:   ',round(s_t/tot,4))\n",
    "print('Suburb: ',round(s_s/tot,4))\n",
    "print('City:   ',round(s_c/tot,4))"
   ]
  },
  {
   "cell_type": "code",
   "execution_count": 209,
   "metadata": {},
   "outputs": [
    {
     "name": "stdout",
     "output_type": "stream",
     "text": [
      "Share of people voting by mail by distance to closest polling station:\n",
      "0-15 min:   0.9444\n",
      "16-30 min:  0.0556\n",
      "30-59 min:  0.0\n",
      "1-2 hrs:    0.0\n",
      "2+ hrs:     0.0\n"
     ]
    }
   ],
   "source": [
    "# DISTANCE\n",
    "\n",
    "s_1 = len(x[x['dist_0-15'] == 1])\n",
    "s_2 = len(x[x['dist_16-30'] == 1])\n",
    "s_3 = len(x[x['dist_31-59'] == 1])\n",
    "s_4 = len(x[x['dist_60-120'] == 1])\n",
    "s_5 = len(x[x['dist_120+'] == 1])\n",
    "\n",
    "tot = s_1+s_2+s_3+s_4+s_5\n",
    "\n",
    "print('Share of people voting by mail by distance to closest polling station:')\n",
    "print('0-15 min:  ',round(s_1/tot,4))\n",
    "print('16-30 min: ',round(s_2/tot,4))\n",
    "print('30-59 min: ',round(s_3/tot,4))\n",
    "print('1-2 hrs:   ',round(s_4/tot,4))\n",
    "print('2+ hrs:    ',round(s_5/tot,4))"
   ]
  },
  {
   "cell_type": "code",
   "execution_count": null,
   "metadata": {},
   "outputs": [],
   "source": []
  }
 ],
 "metadata": {
  "kernelspec": {
   "display_name": "Python 3",
   "language": "python",
   "name": "python3"
  },
  "language_info": {
   "codemirror_mode": {
    "name": "ipython",
    "version": 3
   },
   "file_extension": ".py",
   "mimetype": "text/x-python",
   "name": "python",
   "nbconvert_exporter": "python",
   "pygments_lexer": "ipython3",
   "version": "3.8.3"
  }
 },
 "nbformat": 4,
 "nbformat_minor": 4
}
